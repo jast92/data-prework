{
 "cells": [
  {
   "cell_type": "code",
   "execution_count": 27,
   "metadata": {},
   "outputs": [
    {
     "name": "stdout",
     "output_type": "stream",
     "text": [
      "6\n",
      "[10, 1, 13, 57, 24, 25, 3, 25, -8, 14, 35]\n",
      "Maximum displacement: 57\n",
      "Minimum displacement: 1\n"
     ]
    }
   ],
   "source": [
    "advance_cm = [30, 21, 33, 77, 44, 45, 23, 45, 12, 34, 55]\n",
    "\n",
    "snail_position_new = 0\n",
    "well_height = 125\n",
    "nightly_distance = 20\n",
    "\n",
    "days = 0\n",
    "\n",
    "for i in advance_cm:\n",
    "    snail_position_new += i\n",
    "    snail_position_new -= nightly_distance\n",
    "    days += 1\n",
    "    if snail_position_new > 125:\n",
    "        print(days)\n",
    "        break\n",
    "        \n",
    "diff = []\n",
    "\n",
    "for i in advance_cm:\n",
    "    difference = int(i) - int(nightly_distance)\n",
    "    diff.append(difference)\n",
    "\n",
    "print(diff)\n",
    "\n",
    "sum(diff[:6])\n",
    "\n",
    "print(\"Maximum displacement:\", max(diff[0:6]))\n",
    "print(\"Minimum displacement:\", min(diff[0:6]))\n",
    "\n"
   ]
  },
  {
   "cell_type": "code",
   "execution_count": 23,
   "metadata": {},
   "outputs": [
    {
     "name": "stdout",
     "output_type": "stream",
     "text": [
      "5\n",
      "5\n"
     ]
    }
   ],
   "source": [
    "advance_cm = [30, 21, 33, 77, 44, 45, 23, 45, 12, 34, 55]\n",
    "\n",
    "snail_position_new = 0\n",
    "well_height = 125\n",
    "nightly_distance = 20\n",
    "\n",
    "days = 0\n",
    "\n",
    "for i in advance_cm:\n",
    "    snail_position_new += i\n",
    "    if snail_position_new > 125:\n",
    "        print(days)\n",
    "        break\n",
    "    elif snail_position_new <= 125:\n",
    "        snail_position_new -= nightly_distance\n",
    "        days += 1\n",
    "    \n",
    "print(days)\n",
    "        "
   ]
  },
  {
   "cell_type": "code",
   "execution_count": 2,
   "metadata": {},
   "outputs": [
    {
     "name": "stdout",
     "output_type": "stream",
     "text": [
      "YES-- SUBLIST at :  3\n"
     ]
    }
   ],
   "source": [
    "x = [0,1,2,3,4,5,6,7]\n",
    "y = [3,4,5]\n",
    "\n",
    "occ = [i for i, a in enumerate(x) if a == y[0]]\n",
    "\n",
    "for b in occ:\n",
    "      if x[b:b+len(y)] == y:\n",
    "           print('YES-- SUBLIST at : ', b)\n",
    "           break\n",
    "      if len(occ)-1 ==  occ.index(b):\n",
    "           print('NO SUBLIST')\n",
    "           break"
   ]
  },
  {
   "cell_type": "code",
   "execution_count": null,
   "metadata": {},
   "outputs": [],
   "source": []
  }
 ],
 "metadata": {
  "kernelspec": {
   "display_name": "Python 3",
   "language": "python",
   "name": "python3"
  },
  "language_info": {
   "codemirror_mode": {
    "name": "ipython",
    "version": 3
   },
   "file_extension": ".py",
   "mimetype": "text/x-python",
   "name": "python",
   "nbconvert_exporter": "python",
   "pygments_lexer": "ipython3",
   "version": "3.8.3"
  }
 },
 "nbformat": 4,
 "nbformat_minor": 4
}
